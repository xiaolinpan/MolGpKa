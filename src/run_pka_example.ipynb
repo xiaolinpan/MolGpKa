{
 "cells": [
  {
   "cell_type": "code",
   "execution_count": 1,
   "id": "6e0dfe93",
   "metadata": {},
   "outputs": [],
   "source": [
    "from rdkit import Chem\n",
    "from rdkit.Chem import AllChem\n",
    "from rdkit import RDLogger\n",
    "RDLogger.DisableLog('rdApp.*')\n",
    "from rdkit.Chem.MolStandardize import rdMolStandardize\n",
    "\n",
    "import os.path as osp\n",
    "import numpy as np\n",
    "import pandas as pd\n",
    "\n",
    "import torch\n",
    "from utils.ionization_group import get_ionization_aid\n",
    "from utils.descriptor import mol2vec\n",
    "from utils.net import GCNNet\n",
    "import py3Dmol\n",
    "import mols2grid\n",
    "\n",
    "root = osp.abspath(\"\")\n",
    "\n",
    "def load_model(model_file, device=\"cpu\"):\n",
    "    model= GCNNet().to(device)\n",
    "    model.load_state_dict(torch.load(model_file, map_location=device))\n",
    "    model.eval()\n",
    "    return model\n",
    "\n",
    "def model_pred(m2, aid, model, device=\"cpu\"):\n",
    "    data = mol2vec(m2, aid)\n",
    "    with torch.no_grad():\n",
    "        data = data.to(device)\n",
    "        pKa = model(data)\n",
    "        pKa = pKa.cpu().numpy()\n",
    "        pka = pKa[0][0]\n",
    "    return pka\n",
    "\n",
    "def predict_acid(mol):\n",
    "    model_file = osp.join(root, \"../models/weight_acid.pth\")\n",
    "    model_acid = load_model(model_file)\n",
    "\n",
    "    acid_idxs= get_ionization_aid(mol, acid_or_base=\"acid\")\n",
    "    acid_res = {}\n",
    "    for aid in acid_idxs:\n",
    "        apka = model_pred(mol, aid, model_acid)\n",
    "        acid_res.update({aid:apka})\n",
    "    return acid_res\n",
    "\n",
    "def predict_base(mol):\n",
    "    model_file = osp.join(root, \"../models/weight_base.pth\")\n",
    "    model_base = load_model(model_file)\n",
    "\n",
    "    base_idxs= get_ionization_aid(mol, acid_or_base=\"base\")\n",
    "    base_res = {}\n",
    "    for aid in base_idxs:\n",
    "        bpka = model_pred(mol, aid, model_base) \n",
    "        base_res.update({aid:bpka})\n",
    "    return base_res\n",
    "\n",
    "def predict(mol, uncharged=True):\n",
    "    if uncharged:\n",
    "        un = rdMolStandardize.Uncharger()\n",
    "        mol = un.uncharge(mol)\n",
    "        mol = Chem.MolFromSmiles(Chem.MolToSmiles(mol))\n",
    "    mol = AllChem.AddHs(mol)\n",
    "    base_dict = predict_base(mol)\n",
    "    acid_dict = predict_acid(mol)\n",
    "    AllChem.EmbedMolecule(mol)\n",
    "    return base_dict, acid_dict, mol\n",
    "\n",
    "def drawit(m, atom_idxs, pkas, p=None, confId=-1):\n",
    "    mb = Chem.MolToMolBlock(m, confId=confId)\n",
    "    if p is None:\n",
    "        p = py3Dmol.view(width=600, height=400)\n",
    "    p.removeAllModels()\n",
    "    p.addModel(mb, 'sdf')\n",
    "    for pka, idx in zip(pkas, atom_idxs):\n",
    "        pos = m.GetConformer().GetAtomPosition(idx)\n",
    "        label = \"pKa={:.3}\".format(round(pka, 1))\n",
    "        p.addLabel(label, {\"position\": {\"x\": pos.x, \"y\":pos.y, \"z\": pos.z}, \"fontSize\":10})\n",
    "    p.setStyle({'stick':{'colorscheme':'greenCarbon'}})\n",
    "    p.setBackgroundColor('0xeeeeee')\n",
    "    p.zoomTo()\n",
    "    return p.show()"
   ]
  },
  {
   "cell_type": "code",
   "execution_count": 2,
   "id": "6d742a68",
   "metadata": {},
   "outputs": [
    {
     "name": "stderr",
     "output_type": "stream",
     "text": [
      "/ext3/miniconda3/envs/pyg/lib/python3.11/site-packages/torch_geometric/deprecation.py:22: UserWarning: 'nn.glob.GlobalAttention' is deprecated, use 'nn.aggr.AttentionalAggregation' instead\n",
      "  warnings.warn(out)\n",
      "/ext3/miniconda3/envs/pyg/lib/python3.11/site-packages/torch_geometric/deprecation.py:22: UserWarning: 'nn.glob.GlobalAttention' is deprecated, use 'nn.aggr.AttentionalAggregation' instead\n",
      "  warnings.warn(out)\n"
     ]
    }
   ],
   "source": [
    "mol = Chem.MolFromSmiles(\"CN(C)CCCN1C2=CC=CC=C2SC2=C1C=C(C=C2)C(C)=O\")\n",
    "base_dict, acid_dict, m = predict(mol)\n",
    "atom_idx = list(base_dict.keys()) + list(acid_dict.keys())\n",
    "pkas = list(base_dict.values()) + list(acid_dict.values())"
   ]
  },
  {
   "cell_type": "markdown",
   "id": "115d2955",
   "metadata": {},
   "source": [
    "# Show Base pKas"
   ]
  },
  {
   "cell_type": "code",
   "execution_count": 5,
   "id": "f8733397",
   "metadata": {},
   "outputs": [
    {
     "data": {
      "application/3dmoljs_load.v0": "<div id=\"3dmolviewer_17516451877156515\"  style=\"position: relative; width: 600px; height: 400px;\">\n        <p id=\"3dmolwarning_17516451877156515\" style=\"background-color:#ffcccc;color:black\">3Dmol.js failed to load for some reason.  Please check your browser console for error messages.<br></p>\n        </div>\n<script>\n\nvar loadScriptAsync = function(uri){\n  return new Promise((resolve, reject) => {\n    //this is to ignore the existence of requirejs amd\n    var savedexports, savedmodule;\n    if (typeof exports !== 'undefined') savedexports = exports;\n    else exports = {}\n    if (typeof module !== 'undefined') savedmodule = module;\n    else module = {}\n\n    var tag = document.createElement('script');\n    tag.src = uri;\n    tag.async = true;\n    tag.onload = () => {\n        exports = savedexports;\n        module = savedmodule;\n        resolve();\n    };\n  var firstScriptTag = document.getElementsByTagName('script')[0];\n  firstScriptTag.parentNode.insertBefore(tag, firstScriptTag);\n});\n};\n\nif(typeof $3Dmolpromise === 'undefined') {\n$3Dmolpromise = null;\n  $3Dmolpromise = loadScriptAsync('https://cdn.jsdelivr.net/npm/3dmol@2.5.1/build/3Dmol-min.js');\n}\n\nvar viewer_17516451877156515 = null;\nvar warn = document.getElementById(\"3dmolwarning_17516451877156515\");\nif(warn) {\n    warn.parentNode.removeChild(warn);\n}\n$3Dmolpromise.then(function() {\nviewer_17516451877156515 = $3Dmol.createViewer(document.getElementById(\"3dmolviewer_17516451877156515\"),{backgroundColor:\"white\"});\nviewer_17516451877156515.zoomTo();\n\tviewer_17516451877156515.removeAllModels();\n\tviewer_17516451877156515.addModel(\"\\n     RDKit          3D\\n\\n 45 47  0  0  0  0  0  0  0  0999 V2000\\n   -1.8751   -4.0717   -0.1983 C   0  0  0  0  0  0  0  0  0  0  0  0\\n   -3.0719   -3.2454    0.0859 C   0  0  0  0  0  0  0  0  0  0  0  0\\n   -4.1985   -3.7979    0.2745 O   0  0  0  0  0  0  0  0  0  0  0  0\\n   -3.0455   -1.7737    0.1690 C   0  0  0  0  0  0  0  0  0  0  0  0\\n   -4.2077   -1.0853    0.4601 C   0  0  0  0  0  0  0  0  0  0  0  0\\n   -4.1805    0.2690    0.5307 C   0  0  0  0  0  0  0  0  0  0  0  0\\n   -3.0248    0.9439    0.3181 C   0  0  0  0  0  0  0  0  0  0  0  0\\n   -1.8236    0.3495    0.0239 C   0  0  0  0  0  0  0  0  0  0  0  0\\n   -1.8939   -1.0473   -0.0402 C   0  0  0  0  0  0  0  0  0  0  0  0\\n   -0.6013    1.0302   -0.2267 N   0  0  0  0  0  0  0  0  0  0  0  0\\n    0.5818    0.1909   -0.4791 C   0  0  0  0  0  0  0  0  0  0  0  0\\n    1.0365   -0.3594    0.8222 C   0  0  0  0  0  0  0  0  0  0  0  0\\n    2.2002   -1.2724    0.8201 C   0  0  0  0  0  0  0  0  0  0  0  0\\n    3.4443   -0.7654    0.3215 N   0  0  0  0  0  0  0  0  0  0  0  0\\n    4.4322   -1.8432    0.6122 C   0  0  0  0  0  0  0  0  0  0  0  0\\n    3.5000   -0.6383   -1.1273 C   0  0  0  0  0  0  0  0  0  0  0  0\\n   -0.4695    2.4475   -0.2055 C   0  0  0  0  0  0  0  0  0  0  0  0\\n    0.7506    3.0519   -0.4659 C   0  0  0  0  0  0  0  0  0  0  0  0\\n    0.9268    4.4321   -0.4624 C   0  0  0  0  0  0  0  0  0  0  0  0\\n   -0.1272    5.2543   -0.1940 C   0  0  0  0  0  0  0  0  0  0  0  0\\n   -1.3278    4.6706    0.0634 C   0  0  0  0  0  0  0  0  0  0  0  0\\n   -1.4980    3.3199    0.0596 C   0  0  0  0  0  0  0  0  0  0  0  0\\n   -3.1335    2.7332    0.4339 S   0  0  0  0  0  0  0  0  0  0  0  0\\n   -1.0014   -3.5469   -0.5517 H   0  0  0  0  0  0  0  0  0  0  0  0\\n   -1.6173   -4.7032    0.7012 H   0  0  0  0  0  0  0  0  0  0  0  0\\n   -2.1890   -4.7504   -1.0479 H   0  0  0  0  0  0  0  0  0  0  0  0\\n   -5.1266   -1.6683    0.6266 H   0  0  0  0  0  0  0  0  0  0  0  0\\n   -5.1253    0.7745    0.7645 H   0  0  0  0  0  0  0  0  0  0  0  0\\n   -1.0319   -1.6248   -0.2701 H   0  0  0  0  0  0  0  0  0  0  0  0\\n    0.3332   -0.6365   -1.2130 H   0  0  0  0  0  0  0  0  0  0  0  0\\n    1.3882    0.7106   -0.9736 H   0  0  0  0  0  0  0  0  0  0  0  0\\n    1.3519    0.5098    1.4859 H   0  0  0  0  0  0  0  0  0  0  0  0\\n    0.2431   -0.8322    1.4507 H   0  0  0  0  0  0  0  0  0  0  0  0\\n    2.4026   -1.5240    1.9071 H   0  0  0  0  0  0  0  0  0  0  0  0\\n    1.9590   -2.2857    0.3883 H   0  0  0  0  0  0  0  0  0  0  0  0\\n    4.0010   -2.7573    0.1551 H   0  0  0  0  0  0  0  0  0  0  0  0\\n    4.5506   -1.9637    1.6900 H   0  0  0  0  0  0  0  0  0  0  0  0\\n    5.3678   -1.6146    0.0807 H   0  0  0  0  0  0  0  0  0  0  0  0\\n    3.6400    0.4024   -1.4751 H   0  0  0  0  0  0  0  0  0  0  0  0\\n    2.6481   -1.1760   -1.5444 H   0  0  0  0  0  0  0  0  0  0  0  0\\n    4.4040   -1.1823   -1.5572 H   0  0  0  0  0  0  0  0  0  0  0  0\\n    1.6463    2.5057   -0.6827 H   0  0  0  0  0  0  0  0  0  0  0  0\\n    1.9000    4.8683   -0.6727 H   0  0  0  0  0  0  0  0  0  0  0  0\\n    0.0182    6.3367   -0.1932 H   0  0  0  0  0  0  0  0  0  0  0  0\\n   -2.1563    5.3647    0.2767 H   0  0  0  0  0  0  0  0  0  0  0  0\\n  1  2  1  0\\n  2  3  2  0\\n  2  4  1  0\\n  4  5  2  0\\n  5  6  1  0\\n  6  7  2  0\\n  7  8  1  0\\n  8  9  2  0\\n  8 10  1  0\\n 10 11  1  0\\n 11 12  1  0\\n 12 13  1  0\\n 13 14  1  0\\n 14 15  1  0\\n 14 16  1  0\\n 10 17  1  0\\n 17 18  2  0\\n 18 19  1  0\\n 19 20  2  0\\n 20 21  1  0\\n 21 22  2  0\\n 22 23  1  0\\n  9  4  1  0\\n 22 17  1  0\\n 23  7  1  0\\n  1 24  1  0\\n  1 25  1  0\\n  1 26  1  0\\n  5 27  1  0\\n  6 28  1  0\\n  9 29  1  0\\n 11 30  1  0\\n 11 31  1  0\\n 12 32  1  0\\n 12 33  1  0\\n 13 34  1  0\\n 13 35  1  0\\n 15 36  1  0\\n 15 37  1  0\\n 15 38  1  0\\n 16 39  1  0\\n 16 40  1  0\\n 16 41  1  0\\n 18 42  1  0\\n 19 43  1  0\\n 20 44  1  0\\n 21 45  1  0\\nM  END\\n\",\"sdf\");\n\tviewer_17516451877156515.addLabel(\"pKa=5.6\",{\"position\": {\"x\": -0.6013388025358676, \"y\": 1.0302194747035691, \"z\": -0.22666331596034286}, \"fontSize\": 10});\n\tviewer_17516451877156515.addLabel(\"pKa=9.5\",{\"position\": {\"x\": 3.44431451455889, \"y\": -0.7654034001779563, \"z\": 0.32149971091678026}, \"fontSize\": 10});\n\tviewer_17516451877156515.setStyle({\"stick\": {\"colorscheme\": \"greenCarbon\"}});\n\tviewer_17516451877156515.setBackgroundColor(\"0xeeeeee\");\n\tviewer_17516451877156515.zoomTo();\nviewer_17516451877156515.render();\n});\n</script>",
      "text/html": [
       "<div id=\"3dmolviewer_17516451877156515\"  style=\"position: relative; width: 600px; height: 400px;\">\n",
       "        <p id=\"3dmolwarning_17516451877156515\" style=\"background-color:#ffcccc;color:black\">3Dmol.js failed to load for some reason.  Please check your browser console for error messages.<br></p>\n",
       "        </div>\n",
       "<script>\n",
       "\n",
       "var loadScriptAsync = function(uri){\n",
       "  return new Promise((resolve, reject) => {\n",
       "    //this is to ignore the existence of requirejs amd\n",
       "    var savedexports, savedmodule;\n",
       "    if (typeof exports !== 'undefined') savedexports = exports;\n",
       "    else exports = {}\n",
       "    if (typeof module !== 'undefined') savedmodule = module;\n",
       "    else module = {}\n",
       "\n",
       "    var tag = document.createElement('script');\n",
       "    tag.src = uri;\n",
       "    tag.async = true;\n",
       "    tag.onload = () => {\n",
       "        exports = savedexports;\n",
       "        module = savedmodule;\n",
       "        resolve();\n",
       "    };\n",
       "  var firstScriptTag = document.getElementsByTagName('script')[0];\n",
       "  firstScriptTag.parentNode.insertBefore(tag, firstScriptTag);\n",
       "});\n",
       "};\n",
       "\n",
       "if(typeof $3Dmolpromise === 'undefined') {\n",
       "$3Dmolpromise = null;\n",
       "  $3Dmolpromise = loadScriptAsync('https://cdn.jsdelivr.net/npm/3dmol@2.5.1/build/3Dmol-min.js');\n",
       "}\n",
       "\n",
       "var viewer_17516451877156515 = null;\n",
       "var warn = document.getElementById(\"3dmolwarning_17516451877156515\");\n",
       "if(warn) {\n",
       "    warn.parentNode.removeChild(warn);\n",
       "}\n",
       "$3Dmolpromise.then(function() {\n",
       "viewer_17516451877156515 = $3Dmol.createViewer(document.getElementById(\"3dmolviewer_17516451877156515\"),{backgroundColor:\"white\"});\n",
       "viewer_17516451877156515.zoomTo();\n",
       "\tviewer_17516451877156515.removeAllModels();\n",
       "\tviewer_17516451877156515.addModel(\"\\n     RDKit          3D\\n\\n 45 47  0  0  0  0  0  0  0  0999 V2000\\n   -1.8751   -4.0717   -0.1983 C   0  0  0  0  0  0  0  0  0  0  0  0\\n   -3.0719   -3.2454    0.0859 C   0  0  0  0  0  0  0  0  0  0  0  0\\n   -4.1985   -3.7979    0.2745 O   0  0  0  0  0  0  0  0  0  0  0  0\\n   -3.0455   -1.7737    0.1690 C   0  0  0  0  0  0  0  0  0  0  0  0\\n   -4.2077   -1.0853    0.4601 C   0  0  0  0  0  0  0  0  0  0  0  0\\n   -4.1805    0.2690    0.5307 C   0  0  0  0  0  0  0  0  0  0  0  0\\n   -3.0248    0.9439    0.3181 C   0  0  0  0  0  0  0  0  0  0  0  0\\n   -1.8236    0.3495    0.0239 C   0  0  0  0  0  0  0  0  0  0  0  0\\n   -1.8939   -1.0473   -0.0402 C   0  0  0  0  0  0  0  0  0  0  0  0\\n   -0.6013    1.0302   -0.2267 N   0  0  0  0  0  0  0  0  0  0  0  0\\n    0.5818    0.1909   -0.4791 C   0  0  0  0  0  0  0  0  0  0  0  0\\n    1.0365   -0.3594    0.8222 C   0  0  0  0  0  0  0  0  0  0  0  0\\n    2.2002   -1.2724    0.8201 C   0  0  0  0  0  0  0  0  0  0  0  0\\n    3.4443   -0.7654    0.3215 N   0  0  0  0  0  0  0  0  0  0  0  0\\n    4.4322   -1.8432    0.6122 C   0  0  0  0  0  0  0  0  0  0  0  0\\n    3.5000   -0.6383   -1.1273 C   0  0  0  0  0  0  0  0  0  0  0  0\\n   -0.4695    2.4475   -0.2055 C   0  0  0  0  0  0  0  0  0  0  0  0\\n    0.7506    3.0519   -0.4659 C   0  0  0  0  0  0  0  0  0  0  0  0\\n    0.9268    4.4321   -0.4624 C   0  0  0  0  0  0  0  0  0  0  0  0\\n   -0.1272    5.2543   -0.1940 C   0  0  0  0  0  0  0  0  0  0  0  0\\n   -1.3278    4.6706    0.0634 C   0  0  0  0  0  0  0  0  0  0  0  0\\n   -1.4980    3.3199    0.0596 C   0  0  0  0  0  0  0  0  0  0  0  0\\n   -3.1335    2.7332    0.4339 S   0  0  0  0  0  0  0  0  0  0  0  0\\n   -1.0014   -3.5469   -0.5517 H   0  0  0  0  0  0  0  0  0  0  0  0\\n   -1.6173   -4.7032    0.7012 H   0  0  0  0  0  0  0  0  0  0  0  0\\n   -2.1890   -4.7504   -1.0479 H   0  0  0  0  0  0  0  0  0  0  0  0\\n   -5.1266   -1.6683    0.6266 H   0  0  0  0  0  0  0  0  0  0  0  0\\n   -5.1253    0.7745    0.7645 H   0  0  0  0  0  0  0  0  0  0  0  0\\n   -1.0319   -1.6248   -0.2701 H   0  0  0  0  0  0  0  0  0  0  0  0\\n    0.3332   -0.6365   -1.2130 H   0  0  0  0  0  0  0  0  0  0  0  0\\n    1.3882    0.7106   -0.9736 H   0  0  0  0  0  0  0  0  0  0  0  0\\n    1.3519    0.5098    1.4859 H   0  0  0  0  0  0  0  0  0  0  0  0\\n    0.2431   -0.8322    1.4507 H   0  0  0  0  0  0  0  0  0  0  0  0\\n    2.4026   -1.5240    1.9071 H   0  0  0  0  0  0  0  0  0  0  0  0\\n    1.9590   -2.2857    0.3883 H   0  0  0  0  0  0  0  0  0  0  0  0\\n    4.0010   -2.7573    0.1551 H   0  0  0  0  0  0  0  0  0  0  0  0\\n    4.5506   -1.9637    1.6900 H   0  0  0  0  0  0  0  0  0  0  0  0\\n    5.3678   -1.6146    0.0807 H   0  0  0  0  0  0  0  0  0  0  0  0\\n    3.6400    0.4024   -1.4751 H   0  0  0  0  0  0  0  0  0  0  0  0\\n    2.6481   -1.1760   -1.5444 H   0  0  0  0  0  0  0  0  0  0  0  0\\n    4.4040   -1.1823   -1.5572 H   0  0  0  0  0  0  0  0  0  0  0  0\\n    1.6463    2.5057   -0.6827 H   0  0  0  0  0  0  0  0  0  0  0  0\\n    1.9000    4.8683   -0.6727 H   0  0  0  0  0  0  0  0  0  0  0  0\\n    0.0182    6.3367   -0.1932 H   0  0  0  0  0  0  0  0  0  0  0  0\\n   -2.1563    5.3647    0.2767 H   0  0  0  0  0  0  0  0  0  0  0  0\\n  1  2  1  0\\n  2  3  2  0\\n  2  4  1  0\\n  4  5  2  0\\n  5  6  1  0\\n  6  7  2  0\\n  7  8  1  0\\n  8  9  2  0\\n  8 10  1  0\\n 10 11  1  0\\n 11 12  1  0\\n 12 13  1  0\\n 13 14  1  0\\n 14 15  1  0\\n 14 16  1  0\\n 10 17  1  0\\n 17 18  2  0\\n 18 19  1  0\\n 19 20  2  0\\n 20 21  1  0\\n 21 22  2  0\\n 22 23  1  0\\n  9  4  1  0\\n 22 17  1  0\\n 23  7  1  0\\n  1 24  1  0\\n  1 25  1  0\\n  1 26  1  0\\n  5 27  1  0\\n  6 28  1  0\\n  9 29  1  0\\n 11 30  1  0\\n 11 31  1  0\\n 12 32  1  0\\n 12 33  1  0\\n 13 34  1  0\\n 13 35  1  0\\n 15 36  1  0\\n 15 37  1  0\\n 15 38  1  0\\n 16 39  1  0\\n 16 40  1  0\\n 16 41  1  0\\n 18 42  1  0\\n 19 43  1  0\\n 20 44  1  0\\n 21 45  1  0\\nM  END\\n\",\"sdf\");\n",
       "\tviewer_17516451877156515.addLabel(\"pKa=5.6\",{\"position\": {\"x\": -0.6013388025358676, \"y\": 1.0302194747035691, \"z\": -0.22666331596034286}, \"fontSize\": 10});\n",
       "\tviewer_17516451877156515.addLabel(\"pKa=9.5\",{\"position\": {\"x\": 3.44431451455889, \"y\": -0.7654034001779563, \"z\": 0.32149971091678026}, \"fontSize\": 10});\n",
       "\tviewer_17516451877156515.setStyle({\"stick\": {\"colorscheme\": \"greenCarbon\"}});\n",
       "\tviewer_17516451877156515.setBackgroundColor(\"0xeeeeee\");\n",
       "\tviewer_17516451877156515.zoomTo();\n",
       "viewer_17516451877156515.render();\n",
       "});\n",
       "</script>"
      ]
     },
     "metadata": {},
     "output_type": "display_data"
    }
   ],
   "source": [
    "if len(base_dict) == 0:\n",
    "    print(\"No base pKa found.\")\n",
    "else:\n",
    "    base_atom_idx = list(base_dict.keys())\n",
    "    base_pkas = list(base_dict.values())\n",
    "    drawit(m, base_atom_idx, base_pkas)"
   ]
  },
  {
   "cell_type": "markdown",
   "id": "ff3bc2ed",
   "metadata": {},
   "source": [
    "# Show Acid pKas"
   ]
  },
  {
   "cell_type": "code",
   "execution_count": 6,
   "id": "41214b8c",
   "metadata": {},
   "outputs": [
    {
     "name": "stdout",
     "output_type": "stream",
     "text": [
      "No acid pKa found.\n"
     ]
    }
   ],
   "source": [
    "if len(acid_dict) == 0:\n",
    "    print(\"No acid pKa found.\")\n",
    "else:\n",
    "    acid_atom_idx = list(acid_dict.keys())\n",
    "    acid_pkas = list(acid_dict.values())\n",
    "    drawit(m, acid_atom_idx, acid_pkas)"
   ]
  }
 ],
 "metadata": {
  "kernelspec": {
   "display_name": "pyg",
   "language": "python",
   "name": "python3"
  },
  "language_info": {
   "codemirror_mode": {
    "name": "ipython",
    "version": 3
   },
   "file_extension": ".py",
   "mimetype": "text/x-python",
   "name": "python",
   "nbconvert_exporter": "python",
   "pygments_lexer": "ipython3",
   "version": "3.11.8"
  }
 },
 "nbformat": 4,
 "nbformat_minor": 5
}
